{
  "nbformat": 4,
  "nbformat_minor": 0,
  "metadata": {
    "colab": {
      "name": "Ttest_Python.ipynb",
      "provenance": [],
      "collapsed_sections": [],
      "authorship_tag": "ABX9TyN8CPsc0fTZzebz+IFqOuD6",
      "include_colab_link": true
    },
    "kernelspec": {
      "name": "python3",
      "display_name": "Python 3"
    },
    "language_info": {
      "name": "python"
    }
  },
  "cells": [
    {
      "cell_type": "markdown",
      "metadata": {
        "id": "view-in-github",
        "colab_type": "text"
      },
      "source": [
        "<a href=\"https://colab.research.google.com/github/Gauravsaha-97/TTest_Python/blob/main/Ttest_Python.ipynb\" target=\"_parent\"><img src=\"https://colab.research.google.com/assets/colab-badge.svg\" alt=\"Open In Colab\"/></a>"
      ]
    },
    {
      "cell_type": "markdown",
      "metadata": {
        "id": "iYcGqH62WUAF"
      },
      "source": [
        "# One sample Ttest"
      ]
    },
    {
      "cell_type": "code",
      "metadata": {
        "id": "XIYWuSIIWatJ"
      },
      "source": [
        "import numpy as np\n",
        "from scipy import stats"
      ],
      "execution_count": 18,
      "outputs": []
    },
    {
      "cell_type": "code",
      "metadata": {
        "colab": {
          "base_uri": "https://localhost:8080/"
        },
        "id": "Q5eSiLsfQFdy",
        "outputId": "8cbf7b2e-c287-449c-e912-40b4d0892a57"
      },
      "source": [
        "## Generating random integers with lower limit = 10 and upper limit = 80\n",
        "population = np.random.random_integers(10,80,size = (100))\n",
        "population"
      ],
      "execution_count": 4,
      "outputs": [
        {
          "output_type": "stream",
          "text": [
            "/usr/local/lib/python3.7/dist-packages/ipykernel_launcher.py:1: DeprecationWarning: This function is deprecated. Please call randint(10, 80 + 1) instead\n",
            "  \"\"\"Entry point for launching an IPython kernel.\n"
          ],
          "name": "stderr"
        },
        {
          "output_type": "execute_result",
          "data": {
            "text/plain": [
              "array([67, 42, 62, 42, 20, 39, 26, 31, 68, 24, 16, 45, 17, 77, 48, 55, 21,\n",
              "       64, 10, 25, 41, 61, 59, 56, 46, 35, 47, 72, 62, 12, 30, 34, 15, 34,\n",
              "       62, 19, 72, 37, 34, 47, 68, 79, 37, 30, 24, 15, 50, 72, 31, 11, 13,\n",
              "       39, 15, 66, 73, 78, 80, 20, 63, 55, 79, 33, 26, 68, 40, 19, 27, 30,\n",
              "       53, 79, 43, 40, 70, 38, 15, 19, 15, 59, 19, 42, 28, 63, 48, 24, 31,\n",
              "       72, 73, 13, 45, 43, 78, 39, 51, 38, 61, 55, 17, 33, 20, 32])"
            ]
          },
          "metadata": {
            "tags": []
          },
          "execution_count": 4
        }
      ]
    },
    {
      "cell_type": "code",
      "metadata": {
        "colab": {
          "base_uri": "https://localhost:8080/"
        },
        "id": "aL6un5w3QOxv",
        "outputId": "1bac78e7-06ae-44a6-b390-fb09743015bb"
      },
      "source": [
        "pop_mean = np.mean(population)\n",
        "pop_mean"
      ],
      "execution_count": 5,
      "outputs": [
        {
          "output_type": "execute_result",
          "data": {
            "text/plain": [
              "42.71"
            ]
          },
          "metadata": {
            "tags": []
          },
          "execution_count": 5
        }
      ]
    },
    {
      "cell_type": "code",
      "metadata": {
        "colab": {
          "base_uri": "https://localhost:8080/"
        },
        "id": "8JDH-7TnQmtn",
        "outputId": "390231df-3acb-471a-d48e-e12189917db7"
      },
      "source": [
        "sample = np.random.choice(population,size = (10))\n",
        "sample"
      ],
      "execution_count": 16,
      "outputs": [
        {
          "output_type": "execute_result",
          "data": {
            "text/plain": [
              "array([67, 35, 47, 19, 73, 26, 33, 62, 64, 72])"
            ]
          },
          "metadata": {
            "tags": []
          },
          "execution_count": 16
        }
      ]
    },
    {
      "cell_type": "code",
      "metadata": {
        "colab": {
          "base_uri": "https://localhost:8080/"
        },
        "id": "fkJHvdZLQxHb",
        "outputId": "ce081ab1-8846-46a6-f567-9942ae800466"
      },
      "source": [
        "#One sample Ttest\n",
        "ttest,p = stats.ttest_1samp(sample, pop_mean)\n",
        "if p>=0.05:\n",
        "  print(\"There is no difference in the mean values as p = {}\".format(p))\n",
        "else:\n",
        "  print(\"There is a difference in the mean values as p = \".format(p))"
      ],
      "execution_count": 17,
      "outputs": [
        {
          "output_type": "stream",
          "text": [
            "There is no difference in the mean values as p = 0.2976031748693581\n"
          ],
          "name": "stdout"
        }
      ]
    },
    {
      "cell_type": "markdown",
      "metadata": {
        "id": "EXzKkINQWMxG"
      },
      "source": [
        "# Two Sample Ttest"
      ]
    },
    {
      "cell_type": "code",
      "metadata": {
        "colab": {
          "base_uri": "https://localhost:8080/"
        },
        "id": "nxZMSXmYRaWR",
        "outputId": "24204da9-6e7e-4dfa-aac0-b02a0b362231"
      },
      "source": [
        "# Generating random integers with lower limit = 60 and upper limit = 95\n",
        "classA_age = np.random.random_integers(60,95,100)\n",
        "\n",
        "# Generating random integers with lower limit = 10 and upper limit = 55\n",
        "classB_age = np.random.random_integers(10,55,150)\n"
      ],
      "execution_count": 19,
      "outputs": [
        {
          "output_type": "stream",
          "text": [
            "/usr/local/lib/python3.7/dist-packages/ipykernel_launcher.py:1: DeprecationWarning: This function is deprecated. Please call randint(60, 95 + 1) instead\n",
            "  \"\"\"Entry point for launching an IPython kernel.\n",
            "/usr/local/lib/python3.7/dist-packages/ipykernel_launcher.py:2: DeprecationWarning: This function is deprecated. Please call randint(10, 55 + 1) instead\n",
            "  \n"
          ],
          "name": "stderr"
        }
      ]
    },
    {
      "cell_type": "code",
      "metadata": {
        "colab": {
          "base_uri": "https://localhost:8080/"
        },
        "id": "GVItf4CrWzhb",
        "outputId": "1764a214-e447-4f28-b30f-bf9dd23e55f5"
      },
      "source": [
        "#Generating the samples from the two populations\n",
        "lassA_sam = np.random.choice(classA_age,50)\n",
        "classB_sam = np.random.choice(classB_age,50)\n",
        "\n",
        "# 2 Sample Ttest\n",
        "ttest,p = stats.ttest_ind(classA_sam, classB_sam)\n",
        "if(p>=0.05):\n",
        "  print(\"There is no difference between the means as p = {}\".format(p))\n",
        "else:\n",
        "  print(\"There is a difference between the means as p = {}\".format(p))"
      ],
      "execution_count": 23,
      "outputs": [
        {
          "output_type": "stream",
          "text": [
            "There is a difference between the means as p = 2.175007449410859e-33\n"
          ],
          "name": "stdout"
        }
      ]
    }
  ]
}